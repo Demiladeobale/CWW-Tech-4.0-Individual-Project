{
 "cells": [
  {
   "cell_type": "code",
   "execution_count": 3,
   "metadata": {},
   "outputs": [],
   "source": [
    "# creating a list from my friends dictionary\n",
    "years = [ 2011,2012,2013,2014,2015,2016,2017,2018,2019,2020]\n",
    "durations = [103, 101, 99, 100, 100, 95, 95, 96, 93, 90]\n"
   ]
  },
  {
   "cell_type": "code",
   "execution_count": 4,
   "metadata": {},
   "outputs": [
    {
     "name": "stdout",
     "output_type": "stream",
     "text": [
      "{'years': [2011, 2012, 2013, 2014, 2015, 2016, 2017, 2018, 2019, 2020], 'durations': [103, 101, 99, 100, 100, 95, 95, 96, 93, 90]}\n"
     ]
    }
   ],
   "source": [
    "#creating a dictionary with the list\n",
    "movie_dict = {\n",
    "    \"years\":[2011,2012,2013,2014,2015,2016,2017,2018,2019,2020],\n",
    "    \"durations\":[103, 101, 99, 100, 100, 95, 95, 96, 93, 90]\n",
    "\n",
    "    }\n",
    "print(movie_dict)"
   ]
  },
  {
   "cell_type": "code",
   "execution_count": 5,
   "metadata": {},
   "outputs": [
    {
     "name": "stdout",
     "output_type": "stream",
     "text": [
      "{'years': [2011, 2012, 2013, 2014, 2015, 2016, 2017, 2018, 2019, 2020], 'durations': [103, 101, 99, 100, 100, 95, 95, 96, 93, 90]}\n"
     ]
    }
   ],
   "source": [
    "print(dict(movie_dict))"
   ]
  },
  {
   "cell_type": "code",
   "execution_count": 22,
   "metadata": {},
   "outputs": [],
   "source": [
    "#creating a dataframe using dictionary\n",
    "import pandas as pd\n",
    "duration_df = pd.DataFrame(movie_dict)\n"
   ]
  },
  {
   "cell_type": "code",
   "execution_count": 23,
   "metadata": {},
   "outputs": [
    {
     "name": "stdout",
     "output_type": "stream",
     "text": [
      "   years  durations\n",
      "0   2011        103\n",
      "1   2012        101\n",
      "2   2013         99\n",
      "3   2014        100\n",
      "4   2015        100\n",
      "5   2016         95\n",
      "6   2017         95\n",
      "7   2018         96\n",
      "8   2019         93\n",
      "9   2020         90\n"
     ]
    }
   ],
   "source": [
    "print(duration_df.head(10))"
   ]
  },
  {
   "cell_type": "code",
   "execution_count": 8,
   "metadata": {},
   "outputs": [
    {
     "data": {
      "image/png": "[encoded data removed]",
      "text/plain": [
       "<Figure size 640x480 with 1 Axes>"
      ]
     },
     "metadata": {},
     "output_type": "display_data"
    }
   ],
   "source": [
    "#creating a line plot with the dictionary created\n",
    "\n",
    "import matplotlib.pyplot as plt\n",
    "import numpy as np\n",
    "%matplotlib inline\n",
    "plt.plot(years, durations, linestyle = \"dotted\")\n",
    "plt.xlabel('Years')\n",
    "plt.ylabel('Durations')\n",
    "plt.title('Movie Duration')\n",
    "plt.show()"
   ]
  },
  {
   "cell_type": "code",
   "execution_count": 9,
   "metadata": {},
   "outputs": [
    {
     "name": "stdout",
     "output_type": "stream",
     "text": [
      "  show_id     type  title           director  \\\n",
      "0      s1  TV Show     3%                NaN   \n",
      "1      s2    Movie   7:19  Jorge Michel Grau   \n",
      "2      s3    Movie  23:59       Gilbert Chan   \n",
      "3      s4    Movie      9        Shane Acker   \n",
      "4      s5    Movie     21     Robert Luketic   \n",
      "\n",
      "                                                cast        country  \\\n",
      "0  João Miguel, Bianca Comparato, Michel Gomes, R...         Brazil   \n",
      "1  Demián Bichir, Héctor Bonilla, Oscar Serrano, ...         Mexico   \n",
      "2  Tedd Chan, Stella Chung, Henley Hii, Lawrence ...      Singapore   \n",
      "3  Elijah Wood, John C. Reilly, Jennifer Connelly...  United States   \n",
      "4  Jim Sturgess, Kevin Spacey, Kate Bosworth, Aar...  United States   \n",
      "\n",
      "  date_added  release_year  duration  \\\n",
      "0  14-Aug-20          2020         4   \n",
      "1  23-Dec-16          2016        93   \n",
      "2  20-Dec-18          2011        78   \n",
      "3  16-Nov-17          2009        80   \n",
      "4   1-Jan-20          2008       123   \n",
      "\n",
      "                                         description             genre  \n",
      "0  In a future where the elite inhabit an island ...  International TV  \n",
      "1  After a devastating earthquake hits Mexico Cit...            Dramas  \n",
      "2  When an army recruit is found dead, his fellow...     Horror Movies  \n",
      "3  In a postapocalyptic world, rag-doll robots hi...            Action  \n",
      "4  A brilliant group of students become card-coun...            Dramas  \n"
     ]
    }
   ],
   "source": [
    "#creating a new dataframe with netflix data\n",
    "import pandas as pd\n",
    "netflix_df = pd.read_csv(\"datasets/netflix_data.csv\")\n",
    "print(netflix_df.head(5))\n"
   ]
  },
  {
   "cell_type": "code",
   "execution_count": 10,
   "metadata": {},
   "outputs": [
    {
     "name": "stdout",
     "output_type": "stream",
     "text": [
      "<class 'pandas.core.frame.DataFrame'>\n",
      "RangeIndex: 7787 entries, 0 to 7786\n",
      "Data columns (total 11 columns):\n",
      " #   Column        Non-Null Count  Dtype \n",
      "---  ------        --------------  ----- \n",
      " 0   show_id       7787 non-null   object\n",
      " 1   type          7787 non-null   object\n",
      " 2   title         7787 non-null   object\n",
      " 3   director      5398 non-null   object\n",
      " 4   cast          7069 non-null   object\n",
      " 5   country       7280 non-null   object\n",
      " 6   date_added    7777 non-null   object\n",
      " 7   release_year  7787 non-null   int64 \n",
      " 8   duration      7787 non-null   int64 \n",
      " 9   description   7787 non-null   object\n",
      " 10  genre         7787 non-null   object\n",
      "dtypes: int64(2), object(9)\n",
      "memory usage: 669.3+ KB\n",
      "None\n"
     ]
    }
   ],
   "source": [
    "#date infomation\n",
    "print(netflix_df.info())"
   ]
  },
  {
   "cell_type": "code",
   "execution_count": 11,
   "metadata": {},
   "outputs": [
    {
     "name": "stdout",
     "output_type": "stream",
     "text": [
      "       release_year     duration\n",
      "count   7787.000000  7787.000000\n",
      "mean    2013.932580    69.122769\n",
      "std        8.757395    50.950743\n",
      "min     1925.000000     1.000000\n",
      "25%     2013.000000     2.000000\n",
      "50%     2017.000000    88.000000\n",
      "75%     2018.000000   106.000000\n",
      "max     2021.000000   312.000000\n"
     ]
    }
   ],
   "source": [
    "#to describe data\n",
    "print(netflix_df.describe())"
   ]
  },
  {
   "cell_type": "code",
   "execution_count": 12,
   "metadata": {},
   "outputs": [
    {
     "name": "stdout",
     "output_type": "stream",
     "text": [
      "     show_id   type                                    title  \\\n",
      "1         s2  Movie                                     7:19   \n",
      "2         s3  Movie                                    23:59   \n",
      "3         s4  Movie                                        9   \n",
      "4         s5  Movie                                       21   \n",
      "6         s7  Movie                                      122   \n",
      "...      ...    ...                                      ...   \n",
      "7781   s7782  Movie                                     Zoom   \n",
      "7782   s7783  Movie                                     Zozo   \n",
      "7783   s7784  Movie                                   Zubaan   \n",
      "7784   s7785  Movie                        Zulu Man in Japan   \n",
      "7786   s7787  Movie  ZZ TOP: THAT LITTLE OL' BAND FROM TEXAS   \n",
      "\n",
      "               director                                               cast  \\\n",
      "1     Jorge Michel Grau  Demián Bichir, Héctor Bonilla, Oscar Serrano, ...   \n",
      "2          Gilbert Chan  Tedd Chan, Stella Chung, Henley Hii, Lawrence ...   \n",
      "3           Shane Acker  Elijah Wood, John C. Reilly, Jennifer Connelly...   \n",
      "4        Robert Luketic  Jim Sturgess, Kevin Spacey, Kate Bosworth, Aar...   \n",
      "6       Yasir Al Yasiri  Amina Khalil, Ahmed Dawood, Tarek Lotfy, Ahmed...   \n",
      "...                 ...                                                ...   \n",
      "7781       Peter Hewitt  Tim Allen, Courteney Cox, Chevy Chase, Kate Ma...   \n",
      "7782        Josef Fares  Imad Creidi, Antoinette Turk, Elias Gergi, Car...   \n",
      "7783        Mozez Singh  Vicky Kaushal, Sarah-Jane Dias, Raaghav Chanan...   \n",
      "7784                NaN                                            Nasty C   \n",
      "7786           Sam Dunn                                                NaN   \n",
      "\n",
      "             country date_added  release_year  duration  \\\n",
      "1             Mexico  23-Dec-16          2016        93   \n",
      "2          Singapore  20-Dec-18          2011        78   \n",
      "3      United States  16-Nov-17          2009        80   \n",
      "4      United States   1-Jan-20          2008       123   \n",
      "6              Egypt   1-Jun-20          2019        95   \n",
      "...              ...        ...           ...       ...   \n",
      "7781   United States  11-Jan-20          2006        88   \n",
      "7782          Sweden  19-Oct-20          2005        99   \n",
      "7783           India   2-Mar-19          2015       111   \n",
      "7784             NaN  25-Sep-20          2019        44   \n",
      "7786  United Kingdom   1-Mar-20          2019        90   \n",
      "\n",
      "                                            description          genre  \n",
      "1     After a devastating earthquake hits Mexico Cit...         Dramas  \n",
      "2     When an army recruit is found dead, his fellow...  Horror Movies  \n",
      "3     In a postapocalyptic world, rag-doll robots hi...         Action  \n",
      "4     A brilliant group of students become card-coun...         Dramas  \n",
      "6     After an awful accident, a couple admitted to ...  Horror Movies  \n",
      "...                                                 ...            ...  \n",
      "7781  Dragged from civilian life, a former superhero...       Children  \n",
      "7782  When Lebanon's Civil War deprives Zozo of his ...         Dramas  \n",
      "7783  A scrappy but poor boy worms his way into a ty...         Dramas  \n",
      "7784  In this documentary, South African rapper Nast...  Documentaries  \n",
      "7786  This documentary delves into the mystique behi...  Documentaries  \n",
      "\n",
      "[5377 rows x 11 columns]\n"
     ]
    }
   ],
   "source": [
    "# subsetting rows where we have Movie Only\n",
    "netflix_df_movies_only = netflix_df[netflix_df[\"type\"] == 'Movie']\n",
    "print(netflix_df_movies_only)"
   ]
  },
  {
   "cell_type": "code",
   "execution_count": 13,
   "metadata": {},
   "outputs": [
    {
     "name": "stdout",
     "output_type": "stream",
     "text": [
      "   title        country             genre  release_year  duration\n",
      "0     3%         Brazil  International TV          2020         4\n",
      "1   7:19         Mexico            Dramas          2016        93\n",
      "2  23:59      Singapore     Horror Movies          2011        78\n",
      "3      9  United States            Action          2009        80\n",
      "4     21  United States            Dramas          2008       123\n"
     ]
    }
   ],
   "source": [
    "#subsetting some columns\n",
    "netflix_movies_only = netflix_df[[\"title\",\"country\",\"genre\",\"release_year\",\"duration\"]]  \n",
    "netflix_movies_col_subset = netflix_movies_only\n",
    "print(netflix_movies_col_subset.head())"
   ]
  },
  {
   "cell_type": "code",
   "execution_count": 14,
   "metadata": {},
   "outputs": [
    {
     "data": {
      "image/png": "[encoded data removed]",
      "text/plain": [
       "<Figure size 640x480 with 1 Axes>"
      ]
     },
     "metadata": {},
     "output_type": "display_data"
    }
   ],
   "source": [
    "#creating a scatterplot for Movie Duration by year of realease\n",
    "import matplotlib.pyplot as plt\n",
    "import numpy as np\n",
    "%matplotlib inline\n",
    "#df = pd.DataFrame(data = netflix_movies_col_subset,columns = [\"release_year\",\"duration\"]);\n",
    "netflix_movies_col_subset.plot.scatter(x=\"release_year\", y= \"duration\")\n",
    "plt.title('Movie Duration by year of release')\n",
    "plt.show()\n"
   ]
  },
  {
   "cell_type": "code",
   "execution_count": 15,
   "metadata": {},
   "outputs": [
    {
     "name": "stdout",
     "output_type": "stream",
     "text": [
      "   title     type        country             genre  release_year  duration\n",
      "0     3%  TV Show         Brazil  International TV          2020         4\n",
      "1   7:19    Movie         Mexico            Dramas          2016        93\n",
      "2  23:59    Movie      Singapore     Horror Movies          2011        78\n",
      "3      9    Movie  United States            Action          2009        80\n",
      "4     21    Movie  United States            Dramas          2008       123\n"
     ]
    }
   ],
   "source": [
    "#\n",
    "netflix_short_movies_only = netflix_df[[\"title\", \"type\",\"country\",\"genre\",\"release_year\",\"duration\"]]  \n",
    "netflix_movies_col_subset = netflix_short_movies_only\n",
    "print(netflix_movies_col_subset.head())"
   ]
  },
  {
   "cell_type": "code",
   "execution_count": 16,
   "metadata": {},
   "outputs": [
    {
     "name": "stdout",
     "output_type": "stream",
     "text": [
      "                                                 title   type         country  \\\n",
      "35                                           #Rucker50  Movie   United States   \n",
      "55                 100 Things to do Before High School  Movie   United States   \n",
      "67   13TH: A Conversation with Oprah Winfrey & Ava ...  Movie             NaN   \n",
      "101                                  3 Seconds Divorce  Movie          Canada   \n",
      "146                                     A 3 Minute Hug  Movie          Mexico   \n",
      "162  A Christmas Special: Miraculous: Tales of Lady...  Movie          France   \n",
      "171                         A Family Reunion Christmas  Movie   United States   \n",
      "177                    A Go! Go! Cory Carson Christmas  Movie   United States   \n",
      "178                    A Go! Go! Cory Carson Halloween  Movie             NaN   \n",
      "179                  A Go! Go! Cory Carson Summer Camp  Movie             NaN   \n",
      "181             A Grand Night In: The Story of Aardman  Movie  United Kingdom   \n",
      "200                            A Love Song for Latasha  Movie   United States   \n",
      "220                         A Russell Peters Christmas  Movie          Canada   \n",
      "233                              A StoryBots Christmas  Movie   United States   \n",
      "237                             A Tale of Two Kitchens  Movie   United States   \n",
      "242                            A Trash Truck Christmas  Movie             NaN   \n",
      "247                            A Very Murray Christmas  Movie   United States   \n",
      "285                               Abominable Christmas  Movie   United States   \n",
      "295                                 Across Grace Alley  Movie   United States   \n",
      "305                Adam Devine: Best Time of Our Lives  Movie   United States   \n",
      "\n",
      "             genre  release_year  duration  \n",
      "35   Documentaries          2016        56  \n",
      "55   Uncategorized          2014        44  \n",
      "67   Uncategorized          2017        37  \n",
      "101  Documentaries          2018        53  \n",
      "146  Documentaries          2019        28  \n",
      "162  Uncategorized          2016        22  \n",
      "171  Uncategorized          2019        29  \n",
      "177       Children          2020        22  \n",
      "178       Children          2020        22  \n",
      "179       Children          2020        21  \n",
      "181  Documentaries          2015        59  \n",
      "200  Documentaries          2020        20  \n",
      "220       Stand-Up          2011        44  \n",
      "233       Children          2017        26  \n",
      "237  Documentaries          2019        30  \n",
      "242       Children          2020        28  \n",
      "247       Comedies          2015        57  \n",
      "285       Children          2012        44  \n",
      "295         Dramas          2013        24  \n",
      "305       Stand-Up          2019        59  \n"
     ]
    }
   ],
   "source": [
    "#\n",
    "short_movies = netflix_movies_col_subset.loc[(netflix_movies_col_subset[\"type\"] == \"Movie\") & (netflix_movies_col_subset[\"duration\"] < 60)] \n",
    "print(short_movies.head(20))"
   ]
  },
  {
   "cell_type": "code",
   "execution_count": null,
   "metadata": {},
   "outputs": [],
   "source": []
  },
  {
   "cell_type": "code",
   "execution_count": 17,
   "metadata": {},
   "outputs": [
    {
     "name": "stdout",
     "output_type": "stream",
     "text": [
      "['black', 'black', 'black', 'black', 'black', 'black', 'black', 'black', 'black', 'black', 'black']\n"
     ]
    }
   ],
   "source": [
    "\n",
    "# Define an empty list\n",
    "colors = []\n",
    "\n",
    "# Iterate over rows of netflix_movies_col_subset\n",
    "for lab, row in netflix_movies_col_subset.iterrows() :\n",
    "    if row['genre'] == \"Children\":\n",
    "       colors.append(\"red\") \n",
    "    elif row['genre'] == \"Documentries\" :\n",
    "        colors.append[\"blue\"]\n",
    "    elif row['genre'] == \"Stand-up\":\n",
    "        colors.append(\"green\")\n",
    "    else:\n",
    "        colors.append(\"black\")\n",
    "        \n",
    "# Inspect the first 10 values in your list        \n",
    "print(colors[:11])"
   ]
  }
 ],
 "metadata": {
  "kernelspec": {
   "display_name": "Python 3",
   "language": "python",
   "name": "python3"
  },
  "language_info": {
   "codemirror_mode": {
    "name": "ipython",
    "version": 3
   },
   "file_extension": ".py",
   "mimetype": "text/x-python",
   "name": "python",
   "nbconvert_exporter": "python",
   "pygments_lexer": "ipython3",
   "version": "3.11.4"
  },
  "orig_nbformat": 4
 },
 "nbformat": 4,
 "nbformat_minor": 2
}
